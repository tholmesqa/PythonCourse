{
 "cells": [
  {
   "cell_type": "markdown",
   "id": "9d0a27e5-fd9f-4012-9d34-70289e472236",
   "metadata": {},
   "source": [
    "# Python Fundamentals"
   ]
  },
  {
   "cell_type": "markdown",
   "id": "b3d2b94d-d667-429d-8aa6-cadf439b1429",
   "metadata": {},
   "source": [
    "## Collections"
   ]
  },
  {
   "cell_type": "markdown",
   "id": "6d4f6c7b-9c54-4a18-af6a-1a98ccafdb68",
   "metadata": {},
   "source": [
    "### Lists\n",
    "* Mutable\n",
    "* Ordered"
   ]
  },
  {
   "cell_type": "code",
   "execution_count": 1,
   "id": "36455d1c-d3ec-4b60-b036-1b187cf43f10",
   "metadata": {},
   "outputs": [],
   "source": [
    "names = [\"Thomas\", \"Sian\", \"Vicky\"]"
   ]
  },
  {
   "cell_type": "code",
   "execution_count": 2,
   "id": "5dacd0a0-a457-4399-a5ed-ad48261f4875",
   "metadata": {},
   "outputs": [],
   "source": [
    "numbers = [1, 2, 3, 4, 5, 6, 7, 8, 9]"
   ]
  },
  {
   "cell_type": "code",
   "execution_count": 3,
   "id": "7c08eb88-f4c0-45ea-a2b9-77d5908b3037",
   "metadata": {},
   "outputs": [
    {
     "data": {
      "text/plain": [
       "['Thomas', 'Sian', 'Vicky']"
      ]
     },
     "execution_count": 3,
     "metadata": {},
     "output_type": "execute_result"
    }
   ],
   "source": [
    "names"
   ]
  },
  {
   "cell_type": "code",
   "execution_count": 4,
   "id": "7ca4e690-762a-45e4-8468-1ef18b78c0ba",
   "metadata": {},
   "outputs": [
    {
     "data": {
      "text/plain": [
       "3"
      ]
     },
     "execution_count": 4,
     "metadata": {},
     "output_type": "execute_result"
    }
   ],
   "source": [
    "len(names)"
   ]
  },
  {
   "cell_type": "code",
   "execution_count": 5,
   "id": "02453965-6d6c-475d-bbd5-3f59f2a28cbd",
   "metadata": {},
   "outputs": [
    {
     "data": {
      "text/plain": [
       "9"
      ]
     },
     "execution_count": 5,
     "metadata": {},
     "output_type": "execute_result"
    }
   ],
   "source": [
    "len(numbers)"
   ]
  },
  {
   "cell_type": "code",
   "execution_count": 6,
   "id": "a03a40a2-f4d0-4082-ae94-57d6c21e69c5",
   "metadata": {},
   "outputs": [
    {
     "data": {
      "text/plain": [
       "'Thomas'"
      ]
     },
     "execution_count": 6,
     "metadata": {},
     "output_type": "execute_result"
    }
   ],
   "source": [
    "names[0]"
   ]
  },
  {
   "cell_type": "code",
   "execution_count": 7,
   "id": "589781a1-4819-4515-bb28-fc3592df059f",
   "metadata": {},
   "outputs": [
    {
     "data": {
      "text/plain": [
       "'Vicky'"
      ]
     },
     "execution_count": 7,
     "metadata": {},
     "output_type": "execute_result"
    }
   ],
   "source": [
    "names[2]"
   ]
  },
  {
   "cell_type": "code",
   "execution_count": 8,
   "id": "ca7d51ae-86d1-4dcd-b617-235b8601348f",
   "metadata": {},
   "outputs": [
    {
     "data": {
      "text/plain": [
       "'Vicky'"
      ]
     },
     "execution_count": 8,
     "metadata": {},
     "output_type": "execute_result"
    }
   ],
   "source": [
    "names[-1]"
   ]
  },
  {
   "cell_type": "code",
   "execution_count": 9,
   "id": "cd0ae084-aa0d-4ec8-bd0c-1823d033e539",
   "metadata": {},
   "outputs": [
    {
     "data": {
      "text/plain": [
       "'Sian'"
      ]
     },
     "execution_count": 9,
     "metadata": {},
     "output_type": "execute_result"
    }
   ],
   "source": [
    "names[-2]"
   ]
  },
  {
   "cell_type": "code",
   "execution_count": 10,
   "id": "b36b5d81-4ad1-4477-b957-4ea4aed04ada",
   "metadata": {},
   "outputs": [
    {
     "data": {
      "text/plain": [
       "[1, 2, 3, 4, 5, 6, 7, 8, 9]"
      ]
     },
     "execution_count": 10,
     "metadata": {},
     "output_type": "execute_result"
    }
   ],
   "source": [
    "numbers"
   ]
  },
  {
   "cell_type": "markdown",
   "id": "0221b4a1-3b2a-4921-88a3-81a96688c07f",
   "metadata": {},
   "source": [
    "#### Slicing"
   ]
  },
  {
   "cell_type": "code",
   "execution_count": 12,
   "id": "4442b1b2-39a7-454d-bb4b-b01751cb5e60",
   "metadata": {},
   "outputs": [
    {
     "data": {
      "text/plain": [
       "[2, 3, 4]"
      ]
     },
     "execution_count": 12,
     "metadata": {},
     "output_type": "execute_result"
    }
   ],
   "source": [
    "numbers[1:4] # start:end+1"
   ]
  },
  {
   "cell_type": "code",
   "execution_count": 13,
   "id": "5f859d51-291f-4fb7-9a0a-564a26203468",
   "metadata": {},
   "outputs": [
    {
     "data": {
      "text/plain": [
       "['Sian', 'Vicky']"
      ]
     },
     "execution_count": 13,
     "metadata": {},
     "output_type": "execute_result"
    }
   ],
   "source": [
    "names[1:3]"
   ]
  },
  {
   "cell_type": "code",
   "execution_count": 14,
   "id": "8cbedff9-df00-4198-bfc8-4db436331abd",
   "metadata": {},
   "outputs": [
    {
     "data": {
      "text/plain": [
       "[1, 2, 3, 4, 5]"
      ]
     },
     "execution_count": 14,
     "metadata": {},
     "output_type": "execute_result"
    }
   ],
   "source": [
    "numbers[:5]"
   ]
  },
  {
   "cell_type": "code",
   "execution_count": 15,
   "id": "5ace5a67-732e-4a46-897f-cb8f312dc046",
   "metadata": {},
   "outputs": [
    {
     "data": {
      "text/plain": [
       "[6, 7, 8, 9]"
      ]
     },
     "execution_count": 15,
     "metadata": {},
     "output_type": "execute_result"
    }
   ],
   "source": [
    "numbers[5:]"
   ]
  },
  {
   "cell_type": "code",
   "execution_count": 16,
   "id": "8282d5ad-8b71-40fe-8aa4-a4dfc39aceb5",
   "metadata": {},
   "outputs": [
    {
     "data": {
      "text/plain": [
       "[1, 3, 5, 7]"
      ]
     },
     "execution_count": 16,
     "metadata": {},
     "output_type": "execute_result"
    }
   ],
   "source": [
    "numbers[0:-1:2]"
   ]
  },
  {
   "cell_type": "markdown",
   "id": "ae77184f-01c7-450b-a24f-54c0c09f0310",
   "metadata": {},
   "source": [
    "#### Methods"
   ]
  },
  {
   "cell_type": "code",
   "execution_count": 18,
   "id": "c08aa11a-283c-4e34-8756-2f177071bde9",
   "metadata": {},
   "outputs": [
    {
     "name": "stdout",
     "output_type": "stream",
     "text": [
      "[1, 2, 3, 4, 5, 6, 7, 8, 9]\n"
     ]
    }
   ],
   "source": [
    "print(numbers) #func(data)"
   ]
  },
  {
   "cell_type": "code",
   "execution_count": 19,
   "id": "7f2f18e5-0ecb-4620-9064-4f3fc8d0c2e1",
   "metadata": {},
   "outputs": [],
   "source": [
    "numbers.append(11) # obj.func(data)"
   ]
  },
  {
   "cell_type": "code",
   "execution_count": 20,
   "id": "74a815c6-0243-4fa4-a7d1-8ff0c73a7066",
   "metadata": {},
   "outputs": [
    {
     "data": {
      "text/plain": [
       "[1, 2, 3, 4, 5, 6, 7, 8, 9, 11]"
      ]
     },
     "execution_count": 20,
     "metadata": {},
     "output_type": "execute_result"
    }
   ],
   "source": [
    "numbers"
   ]
  },
  {
   "cell_type": "code",
   "execution_count": 21,
   "id": "8e47317c-0732-4f56-bc17-75725f3ddd59",
   "metadata": {},
   "outputs": [],
   "source": [
    "numbers[0] = -1"
   ]
  },
  {
   "cell_type": "code",
   "execution_count": 22,
   "id": "0ea08913-f4fc-4ed0-881f-8a4a6415a14b",
   "metadata": {},
   "outputs": [
    {
     "data": {
      "text/plain": [
       "[-1, 2, 3, 4, 5, 6, 7, 8, 9, 11]"
      ]
     },
     "execution_count": 22,
     "metadata": {},
     "output_type": "execute_result"
    }
   ],
   "source": [
    "numbers"
   ]
  },
  {
   "cell_type": "markdown",
   "id": "e8e934db-4c15-422b-adaf-e2d07f3e43f8",
   "metadata": {},
   "source": [
    "### Strings"
   ]
  },
  {
   "cell_type": "code",
   "execution_count": 25,
   "id": "c4a324a6-9296-4096-82a9-97af0da366c2",
   "metadata": {},
   "outputs": [],
   "source": [
    "name = \"Thomas Holmes\""
   ]
  },
  {
   "cell_type": "code",
   "execution_count": 26,
   "id": "160d295e-44b8-425f-a0f7-aac62c0ee39a",
   "metadata": {},
   "outputs": [
    {
     "data": {
      "text/plain": [
       "'T'"
      ]
     },
     "execution_count": 26,
     "metadata": {},
     "output_type": "execute_result"
    }
   ],
   "source": [
    "name[0]"
   ]
  },
  {
   "cell_type": "code",
   "execution_count": 27,
   "id": "38b36337-1b9a-4929-bd1e-0a7a9b48b305",
   "metadata": {},
   "outputs": [
    {
     "data": {
      "text/plain": [
       "'Thoma'"
      ]
     },
     "execution_count": 27,
     "metadata": {},
     "output_type": "execute_result"
    }
   ],
   "source": [
    "name[:5]"
   ]
  },
  {
   "cell_type": "code",
   "execution_count": 30,
   "id": "00efe49d-9a83-4af4-93d0-8153709d6524",
   "metadata": {},
   "outputs": [
    {
     "ename": "TypeError",
     "evalue": "'str' object does not support item assignment",
     "output_type": "error",
     "traceback": [
      "\u001b[1;31m-------------------------------------------------------------------\u001b[0m",
      "\u001b[1;31mTypeError\u001b[0m                         Traceback (most recent call last)",
      "Cell \u001b[1;32mIn[30], line 1\u001b[0m\n\u001b[1;32m----> 1\u001b[0m \u001b[43mname\u001b[49m\u001b[43m[\u001b[49m\u001b[38;5;241;43m5\u001b[39;49m\u001b[43m]\u001b[49m \u001b[38;5;241m=\u001b[39m \u001b[38;5;124m'\u001b[39m\u001b[38;5;124mx\u001b[39m\u001b[38;5;124m'\u001b[39m\n",
      "\u001b[1;31mTypeError\u001b[0m: 'str' object does not support item assignment"
     ]
    }
   ],
   "source": [
    "name[5] = 'x'"
   ]
  },
  {
   "cell_type": "code",
   "execution_count": 31,
   "id": "dd2206b9-c0bf-4335-bc6b-1ef7a7780498",
   "metadata": {},
   "outputs": [
    {
     "data": {
      "text/plain": [
       "'THOMAS HOLMES'"
      ]
     },
     "execution_count": 31,
     "metadata": {},
     "output_type": "execute_result"
    }
   ],
   "source": [
    "name.upper()"
   ]
  },
  {
   "cell_type": "code",
   "execution_count": 32,
   "id": "055fa9f4-3402-445e-88a4-33e7221ca81d",
   "metadata": {},
   "outputs": [
    {
     "data": {
      "text/plain": [
       "False"
      ]
     },
     "execution_count": 32,
     "metadata": {},
     "output_type": "execute_result"
    }
   ],
   "source": [
    "name.isalpha()"
   ]
  },
  {
   "cell_type": "code",
   "execution_count": 33,
   "id": "ada129c3-78b5-421f-abf0-f270ee142fb4",
   "metadata": {},
   "outputs": [
    {
     "data": {
      "text/plain": [
       "['Thomas', 'Holmes']"
      ]
     },
     "execution_count": 33,
     "metadata": {},
     "output_type": "execute_result"
    }
   ],
   "source": [
    "name.split()"
   ]
  },
  {
   "cell_type": "markdown",
   "id": "2df275c1-b6f6-4d0b-b20f-419c36d1fa1f",
   "metadata": {},
   "source": [
    "### Tuples"
   ]
  },
  {
   "cell_type": "code",
   "execution_count": 35,
   "id": "9ce5ed99-654f-467d-89fd-2b4d5afd2500",
   "metadata": {},
   "outputs": [],
   "source": [
    "name_tuple = ('Thomas', 'Sian', 'Vicky')"
   ]
  },
  {
   "cell_type": "code",
   "execution_count": 36,
   "id": "d0377bda-2abc-49e6-87d7-4b6fa87b05c4",
   "metadata": {},
   "outputs": [
    {
     "data": {
      "text/plain": [
       "('Thomas', 'Sian', 'Vicky')"
      ]
     },
     "execution_count": 36,
     "metadata": {},
     "output_type": "execute_result"
    }
   ],
   "source": [
    "name_tuple"
   ]
  },
  {
   "cell_type": "code",
   "execution_count": 37,
   "id": "1ab4b2ef-4087-4341-aff3-1cba3a482255",
   "metadata": {},
   "outputs": [
    {
     "data": {
      "text/plain": [
       "1"
      ]
     },
     "execution_count": 37,
     "metadata": {},
     "output_type": "execute_result"
    }
   ],
   "source": [
    "name_tuple.count('Thomas')"
   ]
  },
  {
   "cell_type": "code",
   "execution_count": 38,
   "id": "f91494fd-70b6-43aa-8a95-e59023b04a24",
   "metadata": {},
   "outputs": [
    {
     "data": {
      "text/plain": [
       "'Thomas'"
      ]
     },
     "execution_count": 38,
     "metadata": {},
     "output_type": "execute_result"
    }
   ],
   "source": [
    "name_tuple[0]"
   ]
  },
  {
   "cell_type": "code",
   "execution_count": 39,
   "id": "e8e99894-b5b5-4433-bc65-7127d01e7986",
   "metadata": {},
   "outputs": [
    {
     "data": {
      "text/plain": [
       "('Sian', 'Vicky')"
      ]
     },
     "execution_count": 39,
     "metadata": {},
     "output_type": "execute_result"
    }
   ],
   "source": [
    "name_tuple[1:3]"
   ]
  },
  {
   "cell_type": "markdown",
   "id": "db4255a8-7ff6-453c-a712-75000fe77f60",
   "metadata": {},
   "source": [
    "### Dictionary"
   ]
  },
  {
   "cell_type": "code",
   "execution_count": 41,
   "id": "ddaaafd5-afd3-4b63-aa18-410a1e5d808e",
   "metadata": {},
   "outputs": [
    {
     "data": {
      "text/plain": [
       "['Thomas', 'Sian', 'Vicky']"
      ]
     },
     "execution_count": 41,
     "metadata": {},
     "output_type": "execute_result"
    }
   ],
   "source": [
    "names"
   ]
  },
  {
   "cell_type": "code",
   "execution_count": 49,
   "id": "f4866590-30e6-4b1f-8f3b-762c0843ce60",
   "metadata": {},
   "outputs": [],
   "source": [
    "data = {\n",
    "    # key  : value\n",
    "    'cid'  : [1, 2, 3],\n",
    "    'name' :['Thomas', 'Sian', 'Vicky'],\n",
    "    'stood':[True, False, False]\n",
    "}"
   ]
  },
  {
   "cell_type": "code",
   "execution_count": 44,
   "id": "97c844c9-39e5-4f53-80df-10b61867fd8b",
   "metadata": {},
   "outputs": [
    {
     "data": {
      "text/plain": [
       "['Thomas', 'Sian', 'Vicky']"
      ]
     },
     "execution_count": 44,
     "metadata": {},
     "output_type": "execute_result"
    }
   ],
   "source": [
    "data['name']"
   ]
  },
  {
   "cell_type": "code",
   "execution_count": 45,
   "id": "54cd2b63-74e5-40f5-a74d-f314149b7f53",
   "metadata": {},
   "outputs": [
    {
     "data": {
      "text/plain": [
       "[True, False, False]"
      ]
     },
     "execution_count": 45,
     "metadata": {},
     "output_type": "execute_result"
    }
   ],
   "source": [
    "data['stood']"
   ]
  },
  {
   "cell_type": "code",
   "execution_count": 48,
   "id": "37279f90-48da-4613-a457-4151be5d4e1f",
   "metadata": {},
   "outputs": [
    {
     "data": {
      "text/plain": [
       "dict_values([[1, 2, 3], ['Thomas', 'Sian', 'Vicky'], [True, False, False]])"
      ]
     },
     "execution_count": 48,
     "metadata": {},
     "output_type": "execute_result"
    }
   ],
   "source": [
    "data.values()"
   ]
  },
  {
   "cell_type": "code",
   "execution_count": 50,
   "id": "ccd0758e-3bbf-4e14-acd8-fb462ba236bb",
   "metadata": {},
   "outputs": [],
   "source": [
    "data['is_warm'] = [True, True, True]"
   ]
  },
  {
   "cell_type": "code",
   "execution_count": 52,
   "id": "1b74708f-8dfc-4fba-9d7b-538a142ca0d8",
   "metadata": {},
   "outputs": [
    {
     "data": {
      "text/plain": [
       "{'cid': [1, 2, 3],\n",
       " 'name': ['Thomas', 'Sian', 'Vicky'],\n",
       " 'stood': [True, False, False],\n",
       " 'is_warm': [True, True, True]}"
      ]
     },
     "execution_count": 52,
     "metadata": {},
     "output_type": "execute_result"
    }
   ],
   "source": [
    "data"
   ]
  },
  {
   "cell_type": "markdown",
   "id": "998005c4-a691-42c5-9b09-c44968c977ed",
   "metadata": {},
   "source": [
    "## Flow Control"
   ]
  },
  {
   "cell_type": "markdown",
   "id": "c56fd3ca-a2bb-4484-b12c-0c2f44d29ecd",
   "metadata": {},
   "source": [
    "### Sequential"
   ]
  },
  {
   "cell_type": "code",
   "execution_count": 54,
   "id": "7c9e1758-7dce-48c9-b87f-c255b8e25a53",
   "metadata": {},
   "outputs": [
    {
     "name": "stdout",
     "output_type": "stream",
     "text": [
      "Thomas Holmes\n"
     ]
    }
   ],
   "source": [
    "name = \"Thomas\" #1\n",
    "last = \"Holmes\" #2\n",
    "\n",
    "print(name, last) #3"
   ]
  },
  {
   "cell_type": "markdown",
   "id": "4396bd3e-d770-48d5-87f6-6a94b95d09d5",
   "metadata": {},
   "source": [
    "### Selection"
   ]
  },
  {
   "cell_type": "code",
   "execution_count": 55,
   "id": "ebc5636f-e373-44cf-aab3-7af2d439cb37",
   "metadata": {},
   "outputs": [
    {
     "data": {
      "text/plain": [
       "60000"
      ]
     },
     "execution_count": 55,
     "metadata": {},
     "output_type": "execute_result"
    }
   ],
   "source": [
    "salary = 20_000\n",
    "\n",
    "salary * 3"
   ]
  },
  {
   "cell_type": "code",
   "execution_count": 56,
   "id": "00bec6af-b4a8-43a6-8fd9-877adf35178a",
   "metadata": {},
   "outputs": [
    {
     "data": {
      "text/plain": [
       "True"
      ]
     },
     "execution_count": 56,
     "metadata": {},
     "output_type": "execute_result"
    }
   ],
   "source": [
    "salary > 15_000"
   ]
  },
  {
   "cell_type": "code",
   "execution_count": 58,
   "id": "c0af6b47-f062-435d-a907-986a85e78598",
   "metadata": {},
   "outputs": [
    {
     "data": {
      "text/plain": [
       "True"
      ]
     },
     "execution_count": 58,
     "metadata": {},
     "output_type": "execute_result"
    }
   ],
   "source": [
    "salary != 40_000"
   ]
  },
  {
   "cell_type": "code",
   "execution_count": 61,
   "id": "36a02fa8-916c-4ed6-9d1d-3ad0d9074b77",
   "metadata": {},
   "outputs": [
    {
     "name": "stdout",
     "output_type": "stream",
     "text": [
      "Band B\n"
     ]
    }
   ],
   "source": [
    "if salary > 60_000:\n",
    "    print(\"Band A\")\n",
    "else:\n",
    "    print(\"Band B\")"
   ]
  },
  {
   "cell_type": "code",
   "execution_count": 64,
   "id": "9376a704-66c4-423e-8e1f-4efd395d678e",
   "metadata": {},
   "outputs": [
    {
     "name": "stdout",
     "output_type": "stream",
     "text": [
      "Band A\n",
      "Lucky you!\n"
     ]
    }
   ],
   "source": [
    "salary = 70_000\n",
    "\n",
    "if salary > 60_000:\n",
    "    print(\"Band A\")\n",
    "    print(\"Lucky you!\")\n",
    "elif salary > 40_000:\n",
    "    print(\"Band B\")\n",
    "else:\n",
    "    print(\"Band C\")"
   ]
  },
  {
   "cell_type": "markdown",
   "id": "09fd9ab3-ed25-4526-a625-6cac7bf52f0b",
   "metadata": {},
   "source": [
    "### Iteration"
   ]
  },
  {
   "cell_type": "code",
   "execution_count": 65,
   "id": "13399e17-22ec-4cdd-9122-7f03ae3462ba",
   "metadata": {
    "scrolled": true
   },
   "outputs": [
    {
     "data": {
      "text/plain": [
       "[-1, 2, 3, 4, 5, 6, 7, 8, 9, 11]"
      ]
     },
     "execution_count": 65,
     "metadata": {},
     "output_type": "execute_result"
    }
   ],
   "source": [
    "numbers"
   ]
  },
  {
   "cell_type": "markdown",
   "id": "7cac8b22-23a0-42bf-81a6-34fc91404417",
   "metadata": {},
   "source": [
    "### For loops"
   ]
  },
  {
   "cell_type": "code",
   "execution_count": 68,
   "id": "61cdc7bc-52f4-47de-86c1-292ca85e9185",
   "metadata": {},
   "outputs": [
    {
     "name": "stdout",
     "output_type": "stream",
     "text": [
      "[-2, 4, 6, 8, 10, 12, 14, 16, 18, 22]\n"
     ]
    }
   ],
   "source": [
    "numbers_times_two = []\n",
    "\n",
    "for num in numbers:\n",
    "    numbers_times_two.append(num * 2)\n",
    "\n",
    "print(numbers_times_two)"
   ]
  },
  {
   "cell_type": "markdown",
   "id": "f0493e36-8ab9-48bf-a8d5-8943b279f02e",
   "metadata": {},
   "source": [
    "### while loop"
   ]
  },
  {
   "cell_type": "code",
   "execution_count": 69,
   "id": "5ddc7d52-904c-46e7-b3ff-68f4e2787df3",
   "metadata": {},
   "outputs": [
    {
     "name": "stdout",
     "output_type": "stream",
     "text": [
      "0\n"
     ]
    }
   ],
   "source": [
    "i = 0\n",
    "\n",
    "if i < 10:\n",
    "    print(i)\n",
    "    i = i + 1"
   ]
  },
  {
   "cell_type": "code",
   "execution_count": 70,
   "id": "1efdf93e-a0fe-4871-bbb5-591478615d28",
   "metadata": {},
   "outputs": [
    {
     "name": "stdout",
     "output_type": "stream",
     "text": [
      "0\n",
      "1\n",
      "2\n",
      "3\n",
      "4\n",
      "5\n",
      "6\n",
      "7\n",
      "8\n",
      "9\n"
     ]
    }
   ],
   "source": [
    "i = 0\n",
    "\n",
    "while i < 10:\n",
    "    print(i)\n",
    "    i = i + 1"
   ]
  },
  {
   "cell_type": "markdown",
   "id": "14881eec-8de6-4e1c-87f7-10e6736400ae",
   "metadata": {},
   "source": [
    "## Functions"
   ]
  },
  {
   "cell_type": "code",
   "execution_count": 79,
   "id": "51b55ebf-8044-46aa-8de7-f8000e08c763",
   "metadata": {},
   "outputs": [],
   "source": [
    "def display_message(name):\n",
    "    message = \"Welcome to QA \" +str(name)\n",
    "    return message"
   ]
  },
  {
   "cell_type": "code",
   "execution_count": 80,
   "id": "77150a1d-46f8-4d86-8745-2f93f316bc21",
   "metadata": {},
   "outputs": [],
   "source": [
    "result = display_message(\"Thomas\")"
   ]
  },
  {
   "cell_type": "code",
   "execution_count": 81,
   "id": "f4b26c2b-c157-4353-9c65-4fd1e247958b",
   "metadata": {},
   "outputs": [
    {
     "name": "stdout",
     "output_type": "stream",
     "text": [
      "Welcome to QA Thomas\n"
     ]
    }
   ],
   "source": [
    "print(result)"
   ]
  },
  {
   "cell_type": "code",
   "execution_count": 82,
   "id": "959ecc4e-2fd8-466b-8ae7-64ac732772b7",
   "metadata": {},
   "outputs": [],
   "source": [
    "result = display_message(100)"
   ]
  },
  {
   "cell_type": "code",
   "execution_count": 83,
   "id": "14c73910-d248-4513-a31a-92776f6e30cc",
   "metadata": {},
   "outputs": [
    {
     "name": "stdout",
     "output_type": "stream",
     "text": [
      "Welcome to QA 100\n"
     ]
    }
   ],
   "source": [
    "print(result)"
   ]
  },
  {
   "cell_type": "code",
   "execution_count": 85,
   "id": "3825e55d-e085-4212-a857-e782668ebad0",
   "metadata": {},
   "outputs": [
    {
     "name": "stdout",
     "output_type": "stream",
     "text": [
      "Thoams-David-Holmes\n"
     ]
    }
   ],
   "source": [
    "print(\"Thoams\", \"David\", \"Holmes\", sep=\"-\")"
   ]
  },
  {
   "cell_type": "code",
   "execution_count": null,
   "id": "ef93031c-20e8-4caa-94b9-6919c215819a",
   "metadata": {},
   "outputs": [],
   "source": []
  }
 ],
 "metadata": {
  "kernelspec": {
   "display_name": "Python 3 (ipykernel)",
   "language": "python",
   "name": "python3"
  },
  "language_info": {
   "codemirror_mode": {
    "name": "ipython",
    "version": 3
   },
   "file_extension": ".py",
   "mimetype": "text/x-python",
   "name": "python",
   "nbconvert_exporter": "python",
   "pygments_lexer": "ipython3",
   "version": "3.11.9"
  }
 },
 "nbformat": 4,
 "nbformat_minor": 5
}
