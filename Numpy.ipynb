{
 "cells": [
  {
   "cell_type": "markdown",
   "id": "e25b0f70-bc2b-4a19-abc5-94fa22b7dcec",
   "metadata": {},
   "source": [
    "# Numpy"
   ]
  },
  {
   "cell_type": "code",
   "execution_count": 1,
   "id": "a654e316-822a-4338-87bc-69e15eb12f30",
   "metadata": {},
   "outputs": [],
   "source": [
    "import numpy as np"
   ]
  },
  {
   "cell_type": "markdown",
   "id": "14345cca-44c3-4e6f-8a13-95cf1ea5484d",
   "metadata": {},
   "source": [
    "## Arrays (NDArrays)"
   ]
  },
  {
   "cell_type": "code",
   "execution_count": 2,
   "id": "ce8fc192-97d6-41be-88a2-1568cd23e305",
   "metadata": {},
   "outputs": [],
   "source": [
    "payments_list = [6.99, 12.40, 75, 1.55]"
   ]
  },
  {
   "cell_type": "code",
   "execution_count": 3,
   "id": "a3a27f80-fcb7-4bfe-b497-7a56eef5b737",
   "metadata": {},
   "outputs": [],
   "source": [
    "payments = np.array(payments_list)"
   ]
  },
  {
   "cell_type": "code",
   "execution_count": 4,
   "id": "fba0f287-f717-4f0a-969a-adf2079a616a",
   "metadata": {},
   "outputs": [
    {
     "name": "stdout",
     "output_type": "stream",
     "text": [
      "[ 6.99 12.4  75.    1.55]\n"
     ]
    }
   ],
   "source": [
    "print(payments)"
   ]
  },
  {
   "cell_type": "code",
   "execution_count": 5,
   "id": "57eb5771-4592-4c72-8fd1-373d84df9b3f",
   "metadata": {},
   "outputs": [
    {
     "data": {
      "text/plain": [
       "array([ 6.99, 12.4 , 75.  ,  1.55])"
      ]
     },
     "execution_count": 5,
     "metadata": {},
     "output_type": "execute_result"
    }
   ],
   "source": [
    "payments"
   ]
  },
  {
   "cell_type": "code",
   "execution_count": 6,
   "id": "0551b43a-d7ac-4c05-a2ba-56f3084294e6",
   "metadata": {},
   "outputs": [
    {
     "data": {
      "text/plain": [
       "numpy.ndarray"
      ]
     },
     "execution_count": 6,
     "metadata": {},
     "output_type": "execute_result"
    }
   ],
   "source": [
    "type(payments)"
   ]
  },
  {
   "cell_type": "code",
   "execution_count": 7,
   "id": "489a07c5-0c83-445a-8a3f-fa5f2edd2b84",
   "metadata": {},
   "outputs": [],
   "source": [
    "img = np.array([[0, 1, 0, 1, 0],\n",
    "                [0, 0, 1, 0, 0],\n",
    "                [0, 0, 0, 0, 0],\n",
    "                [0, 1, 1, 1, 0]])"
   ]
  },
  {
   "cell_type": "code",
   "execution_count": 8,
   "id": "63257a87-89e2-48f9-b2e3-5d246b5cc52e",
   "metadata": {},
   "outputs": [
    {
     "data": {
      "text/plain": [
       "array([[0, 1, 0, 1, 0],\n",
       "       [0, 0, 1, 0, 0],\n",
       "       [0, 0, 0, 0, 0],\n",
       "       [0, 1, 1, 1, 0]])"
      ]
     },
     "execution_count": 8,
     "metadata": {},
     "output_type": "execute_result"
    }
   ],
   "source": [
    "img"
   ]
  },
  {
   "cell_type": "code",
   "execution_count": 10,
   "id": "6621fd7a-94ec-4120-90ce-14cc8c881951",
   "metadata": {},
   "outputs": [
    {
     "data": {
      "text/plain": [
       "(4,)"
      ]
     },
     "execution_count": 10,
     "metadata": {},
     "output_type": "execute_result"
    }
   ],
   "source": [
    "payments.shape"
   ]
  },
  {
   "cell_type": "code",
   "execution_count": 11,
   "id": "37f6d73c-e301-48bc-af51-09d8223296ad",
   "metadata": {},
   "outputs": [
    {
     "data": {
      "text/plain": [
       "4"
      ]
     },
     "execution_count": 11,
     "metadata": {},
     "output_type": "execute_result"
    }
   ],
   "source": [
    "payments.size"
   ]
  },
  {
   "cell_type": "code",
   "execution_count": 12,
   "id": "6edfd4ea-1c64-4142-a3e3-e731465190e8",
   "metadata": {},
   "outputs": [
    {
     "data": {
      "text/plain": [
       "1"
      ]
     },
     "execution_count": 12,
     "metadata": {},
     "output_type": "execute_result"
    }
   ],
   "source": [
    "payments.ndim"
   ]
  },
  {
   "cell_type": "code",
   "execution_count": 13,
   "id": "de7b17d7-401c-4715-b5c4-ccf0abccb524",
   "metadata": {},
   "outputs": [
    {
     "data": {
      "text/plain": [
       "(4, 5)"
      ]
     },
     "execution_count": 13,
     "metadata": {},
     "output_type": "execute_result"
    }
   ],
   "source": [
    "img.shape"
   ]
  },
  {
   "cell_type": "code",
   "execution_count": 14,
   "id": "c86d1012-d0bb-48f5-991e-8feffc4519f6",
   "metadata": {},
   "outputs": [
    {
     "data": {
      "text/plain": [
       "20"
      ]
     },
     "execution_count": 14,
     "metadata": {},
     "output_type": "execute_result"
    }
   ],
   "source": [
    "img.size"
   ]
  },
  {
   "cell_type": "code",
   "execution_count": 15,
   "id": "8d1f203b-101d-40c0-9974-c5f3a764b999",
   "metadata": {},
   "outputs": [
    {
     "data": {
      "text/plain": [
       "2"
      ]
     },
     "execution_count": 15,
     "metadata": {},
     "output_type": "execute_result"
    }
   ],
   "source": [
    "img.ndim"
   ]
  },
  {
   "cell_type": "code",
   "execution_count": 16,
   "id": "846317ae-c0f9-4f1b-b986-92820897dc4e",
   "metadata": {},
   "outputs": [
    {
     "data": {
      "text/plain": [
       "dtype('float64')"
      ]
     },
     "execution_count": 16,
     "metadata": {},
     "output_type": "execute_result"
    }
   ],
   "source": [
    "payments.dtype"
   ]
  },
  {
   "cell_type": "code",
   "execution_count": 17,
   "id": "719d8b34-e8f4-4471-a4ff-9a3124764bfd",
   "metadata": {},
   "outputs": [
    {
     "data": {
      "text/plain": [
       "dtype('int64')"
      ]
     },
     "execution_count": 17,
     "metadata": {},
     "output_type": "execute_result"
    }
   ],
   "source": [
    "img.dtype"
   ]
  },
  {
   "cell_type": "code",
   "execution_count": 18,
   "id": "485e7d14-2bc9-4151-8655-b7c134b296fc",
   "metadata": {},
   "outputs": [
    {
     "data": {
      "text/plain": [
       "[0, 1, 2, 3, 4, 5, 6, 7, 8, 9]"
      ]
     },
     "execution_count": 18,
     "metadata": {},
     "output_type": "execute_result"
    }
   ],
   "source": [
    "list(range(10))"
   ]
  },
  {
   "cell_type": "code",
   "execution_count": 20,
   "id": "143d5889-bf8c-4d9a-9c6f-8d3965d3598b",
   "metadata": {},
   "outputs": [
    {
     "data": {
      "text/plain": [
       "array([   0. ,  500.1, 1000.2, 1500.3, 2000.4, 2500.5, 3000.6, 3500.7,\n",
       "       4000.8, 4500.9, 5001. , 5501.1, 6001.2, 6501.3, 7001.4, 7501.5,\n",
       "       8001.6, 8501.7, 9001.8, 9501.9])"
      ]
     },
     "execution_count": 20,
     "metadata": {},
     "output_type": "execute_result"
    }
   ],
   "source": [
    "np.arange(0, 10_000, 500.1)"
   ]
  },
  {
   "cell_type": "markdown",
   "id": "4820544f-6bbc-43ac-9fc9-9c527ea0e2c7",
   "metadata": {},
   "source": [
    "## Manipulation"
   ]
  },
  {
   "cell_type": "code",
   "execution_count": 22,
   "id": "608a6e79-9f12-4ae4-80a5-4ce91a0333ac",
   "metadata": {},
   "outputs": [
    {
     "data": {
      "text/plain": [
       "array([ 13.98,  24.8 , 150.  ,   3.1 ])"
      ]
     },
     "execution_count": 22,
     "metadata": {},
     "output_type": "execute_result"
    }
   ],
   "source": [
    "payments * 2"
   ]
  },
  {
   "cell_type": "code",
   "execution_count": 23,
   "id": "2a9fc3a5-3637-4ba4-83ee-4d0a35eb4b5c",
   "metadata": {},
   "outputs": [
    {
     "data": {
      "text/plain": [
       "array([ 5.592,  9.92 , 60.   ,  1.24 ])"
      ]
     },
     "execution_count": 23,
     "metadata": {},
     "output_type": "execute_result"
    }
   ],
   "source": [
    "payments - payments * 0.2"
   ]
  },
  {
   "cell_type": "code",
   "execution_count": 25,
   "id": "0b9ada78-acaa-47d5-bf26-fa0a507f783b",
   "metadata": {},
   "outputs": [
    {
     "data": {
      "text/plain": [
       "array([[False,  True, False,  True, False],\n",
       "       [False, False,  True, False, False],\n",
       "       [False, False, False, False, False],\n",
       "       [False,  True,  True,  True, False]])"
      ]
     },
     "execution_count": 25,
     "metadata": {},
     "output_type": "execute_result"
    }
   ],
   "source": [
    "img > 0"
   ]
  },
  {
   "cell_type": "code",
   "execution_count": 33,
   "id": "c2f0c8b0-00b1-4c4d-ad0d-2a7c46e55284",
   "metadata": {},
   "outputs": [
    {
     "data": {
      "text/plain": [
       "array([ True, False,  True,  True])"
      ]
     },
     "execution_count": 33,
     "metadata": {},
     "output_type": "execute_result"
    }
   ],
   "source": [
    "(payments > 30) | (payments < 10)"
   ]
  },
  {
   "cell_type": "code",
   "execution_count": 27,
   "id": "6d9d639b-b5d4-4269-90a4-bc8ba0c89a50",
   "metadata": {},
   "outputs": [
    {
     "data": {
      "text/plain": [
       "np.int64(1)"
      ]
     },
     "execution_count": 27,
     "metadata": {},
     "output_type": "execute_result"
    }
   ],
   "source": [
    "(payments > 30).sum()"
   ]
  },
  {
   "cell_type": "markdown",
   "id": "465dccb9-ea6e-4295-bf8a-576a3f4ae6b3",
   "metadata": {},
   "source": [
    "## Masking"
   ]
  },
  {
   "cell_type": "code",
   "execution_count": 29,
   "id": "8226a33d-4a07-43be-bfb4-f6e59297fc6a",
   "metadata": {},
   "outputs": [
    {
     "data": {
      "text/plain": [
       "array([ 6.99, 12.4 , 75.  ,  1.55])"
      ]
     },
     "execution_count": 29,
     "metadata": {},
     "output_type": "execute_result"
    }
   ],
   "source": [
    "payments"
   ]
  },
  {
   "cell_type": "code",
   "execution_count": 28,
   "id": "b75c0124-f9a4-4e2f-a571-f6c0beec00b6",
   "metadata": {},
   "outputs": [
    {
     "data": {
      "text/plain": [
       "array([75.])"
      ]
     },
     "execution_count": 28,
     "metadata": {},
     "output_type": "execute_result"
    }
   ],
   "source": [
    "payments[payments > 30]"
   ]
  },
  {
   "cell_type": "code",
   "execution_count": 30,
   "id": "0aec07b3-2078-4754-86fa-a2b91105953e",
   "metadata": {},
   "outputs": [
    {
     "data": {
      "text/plain": [
       "array([1, 1, 1, 1, 1, 1])"
      ]
     },
     "execution_count": 30,
     "metadata": {},
     "output_type": "execute_result"
    }
   ],
   "source": [
    "img[img>0]"
   ]
  },
  {
   "cell_type": "code",
   "execution_count": 34,
   "id": "288373aa-80e6-472d-97b0-3028e5552d55",
   "metadata": {},
   "outputs": [
    {
     "data": {
      "text/plain": [
       "array([ 6.99, 75.  ,  1.55])"
      ]
     },
     "execution_count": 34,
     "metadata": {},
     "output_type": "execute_result"
    }
   ],
   "source": [
    "payments[(payments > 30) | (payments < 10)]"
   ]
  },
  {
   "cell_type": "markdown",
   "id": "3b9864a8-1b88-40c6-8145-290dd9e95c42",
   "metadata": {},
   "source": [
    "### Slicing"
   ]
  },
  {
   "cell_type": "code",
   "execution_count": 35,
   "id": "20b02c5e-f71c-44b8-aef4-c040dcb36c2d",
   "metadata": {},
   "outputs": [
    {
     "data": {
      "text/plain": [
       "np.float64(6.99)"
      ]
     },
     "execution_count": 35,
     "metadata": {},
     "output_type": "execute_result"
    }
   ],
   "source": [
    "payments[0]"
   ]
  },
  {
   "cell_type": "code",
   "execution_count": 36,
   "id": "5116ef97-c778-4f71-aada-c9538fc8570e",
   "metadata": {},
   "outputs": [
    {
     "data": {
      "text/plain": [
       "np.float64(1.55)"
      ]
     },
     "execution_count": 36,
     "metadata": {},
     "output_type": "execute_result"
    }
   ],
   "source": [
    "payments[-1]"
   ]
  },
  {
   "cell_type": "code",
   "execution_count": 37,
   "id": "579327a4-bc19-45e3-892b-b874b3251cde",
   "metadata": {},
   "outputs": [
    {
     "data": {
      "text/plain": [
       "array([ 6.99, 12.4 , 75.  ])"
      ]
     },
     "execution_count": 37,
     "metadata": {},
     "output_type": "execute_result"
    }
   ],
   "source": [
    "payments[0:3]"
   ]
  },
  {
   "cell_type": "code",
   "execution_count": 38,
   "id": "d3bfaba7-ee5f-4f8c-9761-432a48596f29",
   "metadata": {},
   "outputs": [
    {
     "data": {
      "text/plain": [
       "array([ 6.99, 75.  ])"
      ]
     },
     "execution_count": 38,
     "metadata": {},
     "output_type": "execute_result"
    }
   ],
   "source": [
    "payments[[0, 2]]"
   ]
  },
  {
   "cell_type": "code",
   "execution_count": 41,
   "id": "a67e3653-8c82-41a2-9e00-e6520bcded00",
   "metadata": {},
   "outputs": [
    {
     "data": {
      "text/plain": [
       "array([[0, 1, 0, 1, 0],\n",
       "       [0, 0, 1, 0, 0],\n",
       "       [0, 0, 0, 0, 0],\n",
       "       [0, 1, 1, 1, 0]])"
      ]
     },
     "execution_count": 41,
     "metadata": {},
     "output_type": "execute_result"
    }
   ],
   "source": [
    "img"
   ]
  },
  {
   "cell_type": "code",
   "execution_count": 39,
   "id": "2a258b5f-9915-46f9-8077-88b9b4644517",
   "metadata": {},
   "outputs": [
    {
     "data": {
      "text/plain": [
       "array([0, 1, 0, 1, 0])"
      ]
     },
     "execution_count": 39,
     "metadata": {},
     "output_type": "execute_result"
    }
   ],
   "source": [
    "img[0]"
   ]
  },
  {
   "cell_type": "code",
   "execution_count": 40,
   "id": "34156c84-7967-43e7-ace7-fb361159baac",
   "metadata": {},
   "outputs": [
    {
     "data": {
      "text/plain": [
       "np.int64(0)"
      ]
     },
     "execution_count": 40,
     "metadata": {},
     "output_type": "execute_result"
    }
   ],
   "source": [
    "img[0, 0]"
   ]
  },
  {
   "cell_type": "code",
   "execution_count": 42,
   "id": "6fb93c47-183d-405f-a876-941bb0717c64",
   "metadata": {},
   "outputs": [
    {
     "data": {
      "text/plain": [
       "np.int64(1)"
      ]
     },
     "execution_count": 42,
     "metadata": {},
     "output_type": "execute_result"
    }
   ],
   "source": [
    "img[1, 2]"
   ]
  },
  {
   "cell_type": "code",
   "execution_count": 45,
   "id": "7def7117-61fe-46d4-b226-4069f4012f28",
   "metadata": {},
   "outputs": [
    {
     "data": {
      "text/plain": [
       "array([0, 1, 0, 1])"
      ]
     },
     "execution_count": 45,
     "metadata": {},
     "output_type": "execute_result"
    }
   ],
   "source": [
    "img[:, 2]"
   ]
  },
  {
   "cell_type": "code",
   "execution_count": null,
   "id": "aadd9911-d74a-482a-a4bf-8fbbc79275cd",
   "metadata": {},
   "outputs": [],
   "source": []
  }
 ],
 "metadata": {
  "kernelspec": {
   "display_name": "Python 3 (ipykernel)",
   "language": "python",
   "name": "python3"
  },
  "language_info": {
   "codemirror_mode": {
    "name": "ipython",
    "version": 3
   },
   "file_extension": ".py",
   "mimetype": "text/x-python",
   "name": "python",
   "nbconvert_exporter": "python",
   "pygments_lexer": "ipython3",
   "version": "3.11.9"
  }
 },
 "nbformat": 4,
 "nbformat_minor": 5
}
