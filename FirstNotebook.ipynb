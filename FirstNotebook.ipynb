{
 "cells": [
  {
   "cell_type": "markdown",
   "id": "ad8afe6a-e14c-4832-9f1b-829f8de88068",
   "metadata": {},
   "source": [
    "# My First Notebook\n",
    "## Basic commands\n",
    "The below is the hello world programme for python\n",
    "`print(\"Hello, world!\")`\n",
    "\n",
    "* Arrows: \t\t\tMove around notebook\n",
    "* m: \t\t\tMarkdown / text cell\n",
    "* y: \t\t\tCode cell / Python cell\n",
    "* a: \t\t\tInsert cell above\n",
    "* b: \t\t\tInsert cell below\n",
    "* dd: \t\t\tDelete cell\n",
    "* z: \t\t\tUndo delete\n",
    "* Ctrl + Enter to run.\n",
    "* Shift + Enter to run and move one cell below.\n"
   ]
  },
  {
   "cell_type": "code",
   "execution_count": 8,
   "id": "6b4bb17d-42c6-419b-b70b-68cd97c840b9",
   "metadata": {},
   "outputs": [
    {
     "name": "stdout",
     "output_type": "stream",
     "text": [
      "Hello, world!\n"
     ]
    }
   ],
   "source": [
    "print(\"Hello, world!\")"
   ]
  },
  {
   "cell_type": "code",
   "execution_count": 5,
   "id": "d7f664cc-52fe-4460-b31e-e73ab0896ba5",
   "metadata": {},
   "outputs": [
    {
     "name": "stdout",
     "output_type": "stream",
     "text": [
      "Goodbye, world.\n"
     ]
    }
   ],
   "source": [
    "print(\"Goodbye, world.\")"
   ]
  },
  {
   "cell_type": "markdown",
   "id": "1f71b56c-da17-499c-8e47-840c6d360327",
   "metadata": {},
   "source": [
    "## Python Basics"
   ]
  },
  {
   "cell_type": "code",
   "execution_count": 9,
   "id": "066eaea4-207f-4c23-9e5f-755606129514",
   "metadata": {},
   "outputs": [
    {
     "name": "stdout",
     "output_type": "stream",
     "text": [
      "Thomas\n"
     ]
    }
   ],
   "source": [
    "print(\"Thomas\")"
   ]
  },
  {
   "cell_type": "code",
   "execution_count": 11,
   "id": "dd218a5d-7ae3-4c9c-a542-d11082ee5ae7",
   "metadata": {},
   "outputs": [
    {
     "name": "stdout",
     "output_type": "stream",
     "text": [
      "Hello\n"
     ]
    }
   ],
   "source": [
    "print(\"Hello\") # function(data) "
   ]
  },
  {
   "cell_type": "code",
   "execution_count": 12,
   "id": "d823e3b5-dae7-4a87-985b-bb52ca79e0e7",
   "metadata": {},
   "outputs": [
    {
     "name": "stdout",
     "output_type": "stream",
     "text": [
      "Hello World\n"
     ]
    }
   ],
   "source": [
    "print(\"Hello\", \"World\")"
   ]
  },
  {
   "cell_type": "code",
   "execution_count": 36,
   "id": "517cd95c-6a4a-4b6f-918e-c8be097a34d2",
   "metadata": {},
   "outputs": [],
   "source": [
    "#     ->\n",
    "# var = data/object\n",
    "name  = \"Thomas\""
   ]
  },
  {
   "cell_type": "code",
   "execution_count": 16,
   "id": "e4e29815-a834-4bd8-adae-fdce9495771e",
   "metadata": {},
   "outputs": [
    {
     "data": {
      "text/plain": [
       "'Thomas Holmes'"
      ]
     },
     "execution_count": 16,
     "metadata": {},
     "output_type": "execute_result"
    }
   ],
   "source": [
    "name"
   ]
  },
  {
   "cell_type": "code",
   "execution_count": 17,
   "id": "3386f72a-34d9-4547-8146-79f13044b499",
   "metadata": {},
   "outputs": [
    {
     "name": "stdout",
     "output_type": "stream",
     "text": [
      "Thomas Holmes\n"
     ]
    }
   ],
   "source": [
    "print(name)"
   ]
  },
  {
   "cell_type": "code",
   "execution_count": 25,
   "id": "5f294afa-9c09-4bb6-8558-235274d40280",
   "metadata": {},
   "outputs": [],
   "source": [
    "another_name = \"Sian Davies\""
   ]
  },
  {
   "cell_type": "code",
   "execution_count": 37,
   "id": "f7302b50-7734-493d-8284-f059cc134454",
   "metadata": {},
   "outputs": [
    {
     "name": "stdout",
     "output_type": "stream",
     "text": [
      "Thomas Sian Davies\n"
     ]
    }
   ],
   "source": [
    "print(name, another_name)"
   ]
  },
  {
   "cell_type": "code",
   "execution_count": 31,
   "id": "d1149a56-d5b8-4567-9c0f-1f701c6ca526",
   "metadata": {},
   "outputs": [
    {
     "name": "stdin",
     "output_type": "stream",
     "text": [
      "What is the weatehr today?  HOT\n"
     ]
    }
   ],
   "source": [
    "weather = input(\"What is the weatehr today? \")"
   ]
  },
  {
   "cell_type": "code",
   "execution_count": 32,
   "id": "e3a22e24-e0c9-47c8-8541-3fc49bd6f1d0",
   "metadata": {},
   "outputs": [
    {
     "name": "stdout",
     "output_type": "stream",
     "text": [
      "The weather today is HOT\n"
     ]
    }
   ],
   "source": [
    "print(\"The weather today is\", weather)"
   ]
  },
  {
   "cell_type": "code",
   "execution_count": 33,
   "id": "64fa0da9-7d3d-4e45-8d26-4fcec216cdf6",
   "metadata": {},
   "outputs": [],
   "source": [
    "first_name = \"Thomas\"\n",
    "last_name = \"Holmes\""
   ]
  },
  {
   "cell_type": "code",
   "execution_count": 34,
   "id": "8c7bf0f6-f7c4-4f30-8a0d-358d02b97008",
   "metadata": {},
   "outputs": [
    {
     "name": "stdout",
     "output_type": "stream",
     "text": [
      "Thomas Holmes\n"
     ]
    }
   ],
   "source": [
    "print(first_name, last_name)"
   ]
  },
  {
   "cell_type": "code",
   "execution_count": 45,
   "id": "7f2fa205-880a-4834-9faa-7ed0d41953ee",
   "metadata": {},
   "outputs": [],
   "source": [
    "age = 21 # int\n",
    "salary = 20_000.46 # float\n",
    "company_name = \"QA\" # str\n",
    "is_standing = True # bool"
   ]
  },
  {
   "cell_type": "code",
   "execution_count": 44,
   "id": "e8129c15-fc09-48d9-b21e-f793d2374808",
   "metadata": {},
   "outputs": [
    {
     "data": {
      "text/plain": [
       "bool"
      ]
     },
     "execution_count": 44,
     "metadata": {},
     "output_type": "execute_result"
    }
   ],
   "source": [
    "type(is_standing)"
   ]
  },
  {
   "cell_type": "code",
   "execution_count": 46,
   "id": "6dba139e-3d34-4cce-8a54-532b4e733591",
   "metadata": {},
   "outputs": [
    {
     "data": {
      "text/plain": [
       "20021.46"
      ]
     },
     "execution_count": 46,
     "metadata": {},
     "output_type": "execute_result"
    }
   ],
   "source": [
    "age + salary"
   ]
  },
  {
   "cell_type": "code",
   "execution_count": 47,
   "id": "1ffa1b03-f4f5-4347-9e54-0c51f536ec01",
   "metadata": {},
   "outputs": [
    {
     "ename": "TypeError",
     "evalue": "unsupported operand type(s) for +: 'int' and 'str'",
     "output_type": "error",
     "traceback": [
      "\u001b[1;31m-------------------------------------------------------------------\u001b[0m",
      "\u001b[1;31mTypeError\u001b[0m                         Traceback (most recent call last)",
      "Cell \u001b[1;32mIn[47], line 1\u001b[0m\n\u001b[1;32m----> 1\u001b[0m \u001b[43mage\u001b[49m\u001b[43m \u001b[49m\u001b[38;5;241;43m+\u001b[39;49m\u001b[43m \u001b[49m\u001b[43mcompany_name\u001b[49m\n",
      "\u001b[1;31mTypeError\u001b[0m: unsupported operand type(s) for +: 'int' and 'str'"
     ]
    }
   ],
   "source": [
    "age + company_name"
   ]
  },
  {
   "cell_type": "code",
   "execution_count": 48,
   "id": "50726cba-c566-44d6-b811-32d0e1a385b9",
   "metadata": {},
   "outputs": [
    {
     "data": {
      "text/plain": [
       "'QAQA'"
      ]
     },
     "execution_count": 48,
     "metadata": {},
     "output_type": "execute_result"
    }
   ],
   "source": [
    "company_name + company_name"
   ]
  },
  {
   "cell_type": "code",
   "execution_count": 49,
   "id": "40585188-3e21-4d6a-9f30-6e539cf683aa",
   "metadata": {},
   "outputs": [
    {
     "data": {
      "text/plain": [
       "441"
      ]
     },
     "execution_count": 49,
     "metadata": {},
     "output_type": "execute_result"
    }
   ],
   "source": [
    "age ** 2"
   ]
  },
  {
   "cell_type": "code",
   "execution_count": 50,
   "id": "0aa56017-a1f6-4e3b-bede-969bebf88bf3",
   "metadata": {},
   "outputs": [
    {
     "data": {
      "text/plain": [
       "420009.66"
      ]
     },
     "execution_count": 50,
     "metadata": {},
     "output_type": "execute_result"
    }
   ],
   "source": [
    "age * salary"
   ]
  },
  {
   "cell_type": "code",
   "execution_count": 53,
   "id": "6091eb0e-2881-4389-815c-135ba0fdf611",
   "metadata": {},
   "outputs": [
    {
     "data": {
      "text/plain": [
       "'QA21'"
      ]
     },
     "execution_count": 53,
     "metadata": {},
     "output_type": "execute_result"
    }
   ],
   "source": [
    "company_name + str(age)"
   ]
  }
 ],
 "metadata": {
  "kernelspec": {
   "display_name": "Python 3 (ipykernel)",
   "language": "python",
   "name": "python3"
  },
  "language_info": {
   "codemirror_mode": {
    "name": "ipython",
    "version": 3
   },
   "file_extension": ".py",
   "mimetype": "text/x-python",
   "name": "python",
   "nbconvert_exporter": "python",
   "pygments_lexer": "ipython3",
   "version": "3.11.9"
  }
 },
 "nbformat": 4,
 "nbformat_minor": 5
}
